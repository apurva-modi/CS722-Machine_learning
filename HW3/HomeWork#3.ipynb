{
 "cells": [
  {
   "cell_type": "markdown",
   "metadata": {},
   "source": [
    "> ##                                              Homework #3 Machine Leaning CS722/822\n",
    ">  Apurva Modi UIN: 01122493"
   ]
  },
  {
   "cell_type": "code",
   "execution_count": 1,
   "metadata": {},
   "outputs": [],
   "source": [
    "#from sklearn.linear_model import LogisticRegression\n",
    "from sklearn import datasets\n",
    "from sklearn.model_selection import train_test_split\n",
    "import numpy as np\n",
    "import pandas as pd\n",
    "import matplotlib.pyplot as plt"
   ]
  },
  {
   "cell_type": "markdown",
   "metadata": {},
   "source": [
    "> ###   Question 1"
   ]
  },
  {
   "cell_type": "markdown",
   "metadata": {
    "collapsed": true
   },
   "source": [
    "$$LL(W)=\\sum_{i=1}^{N}\\log(1+\\exp(wx_i^T)) - y_iwx_i^T$$\n",
    "Take derivative with respect to w, $$\\frac{\\partial LL(w)}{\\partial w}$$ and then we can get the gradient as\n",
    "$$\\sum_{i=1}^{N} \\frac{e^{wx_i^T}}{1+e^{wx_i^T}}x_i - y_ix_i$$ "
   ]
  },
  {
   "cell_type": "code",
   "execution_count": 2,
   "metadata": {},
   "outputs": [],
   "source": [
    "# Implemeting the sigmoid function\n",
    "def sigmoid(scores):\n",
    "    \"\"\"\n",
    "    return e^x/(1+e^x)\n",
    "    \"\"\"\n",
    "    return 1 / (1 + np.exp(-scores))"
   ]
  },
  {
   "cell_type": "markdown",
   "metadata": {},
   "source": [
    "> ### Question 2"
   ]
  },
  {
   "cell_type": "code",
   "execution_count": 3,
   "metadata": {},
   "outputs": [],
   "source": [
    "# Function to check the logisgtic loss\n",
    "def log_likelihood(features, target, weights):\n",
    "    \"\"\"\n",
    "    This is LL(W) function to check how well the gradient descent will be \n",
    "    features X.T Traget Y and weights = w\n",
    "    \"\"\"\n",
    "    scores = np.dot(features, weights)\n",
    "    ll = np.sum(np.log(1 + np.exp(scores))-target*scores )\n",
    "    return ll"
   ]
  },
  {
   "cell_type": "code",
   "execution_count": 4,
   "metadata": {},
   "outputs": [],
   "source": [
    "def logistic_regression(features, target, num_steps,learning_rate):\n",
    "    \"\"\"\n",
    "    use logitstic regression to calculate weight and eventually use weight we got \n",
    "    to predict test target using wx linear function.\n",
    "    \"\"\"    \n",
    "    weights = np.zeros(features.shape[1])\n",
    "    #learning_rate=1\n",
    "    for step in range(num_steps):\n",
    "        scores = np.dot(features, weights)\n",
    "        predictions = sigmoid(scores)\n",
    "\n",
    "        # Update weights with gradient\n",
    "        output_error_signal = target - predictions\n",
    "        gradient = np.dot(features.T, output_error_signal)\n",
    "        weights += learning_rate * gradient\n",
    "        #learning_rate=learning_rate/2\n",
    "        # Print log-likelihood every so often\n",
    "        if step % 10000 == 0:\n",
    "            print (log_likelihood(features, target, weights))\n",
    "        \n",
    "    return weights"
   ]
  },
  {
   "cell_type": "markdown",
   "metadata": {},
   "source": [
    "> ### Question 3"
   ]
  },
  {
   "cell_type": "code",
   "execution_count": 5,
   "metadata": {},
   "outputs": [],
   "source": [
    "def roc_table(probability, target):\n",
    "    \"\"\"\n",
    "    get roc table we can input probability and target we need to evaluate\n",
    "    \"\"\"\n",
    "    df = pd.DataFrame({ 'True Class':target ,'probability':probability})\n",
    "    df=df.sort_values('probability',ascending=False)\n",
    "    threshold=df.probability.unique().tolist()\n",
    "    tp=[]\n",
    "    fp=[]\n",
    "    tn=[]\n",
    "    fn=[]\n",
    "    for i in threshold:\n",
    "        tp.append(np.in1d(df.loc[lambda df: df.probability >= i, :],1).sum())\n",
    "        fp.append(np.in1d(df.loc[lambda df: df.probability >= i, :],0).sum())\n",
    "        tn.append(np.in1d(df.loc[lambda df: df.probability < i, :],0).sum())\n",
    "        fn.append(np.in1d(df.loc[lambda df: df.probability < i, :],1).sum())\n",
    "    roc=pd.DataFrame({ 'threshold':threshold ,'tp':tp,'fp':fp,'tn':tn,'fn':fn})\n",
    "    roc['tpr']=roc['tp']/(roc['tp']+roc['fn'])\n",
    "    roc['fpr']=roc['fp']/(roc['fp']+roc['tn'])\n",
    "    return roc"
   ]
  },
  {
   "cell_type": "code",
   "execution_count": 6,
   "metadata": {},
   "outputs": [],
   "source": [
    "def roc_curve(roc):\n",
    "    \"\"\"\n",
    "    drawing the roc curve\n",
    "    \"\"\"\n",
    "    plt.title('ROC Curve')\n",
    "    plt.plot(roc.fpr, roc.tpr, 'b')\n",
    "    plt.legend()\n",
    "    plt.plot([0, 1], [0, 1],'r--')\n",
    "    plt.xlim([0, 1])\n",
    "    plt.ylim([0, 1])\n",
    "    plt.ylabel('True Positive Rate (TPR)')\n",
    "    plt.xlabel('False Positive Rate (FPR)')\n",
    "    plt.show()\n",
    "    return\n",
    " "
   ]
  },
  {
   "cell_type": "markdown",
   "metadata": {},
   "source": [
    "> ### Question 4"
   ]
  },
  {
   "cell_type": "code",
   "execution_count": 7,
   "metadata": {},
   "outputs": [
    {
     "name": "stderr",
     "output_type": "stream",
     "text": [
      "/anaconda3/lib/python3.6/site-packages/sklearn/model_selection/_split.py:2026: FutureWarning: From version 0.21, test_size will always complement train_size unless both are specified.\n",
      "  FutureWarning)\n",
      "/anaconda3/lib/python3.6/site-packages/ipykernel_launcher.py:6: RuntimeWarning: overflow encountered in exp\n",
      "  \n"
     ]
    },
    {
     "name": "stdout",
     "output_type": "stream",
     "text": [
      "724831.0951532755\n"
     ]
    },
    {
     "name": "stderr",
     "output_type": "stream",
     "text": [
      "/anaconda3/lib/python3.6/site-packages/ipykernel_launcher.py:8: RuntimeWarning: overflow encountered in exp\n",
      "  \n"
     ]
    },
    {
     "name": "stdout",
     "output_type": "stream",
     "text": [
      "inf\n",
      "the weights w is \n",
      " [ 3.99047289e+01 -3.51485738e+01  1.60452745e+02  8.95007088e+00\n",
      " -1.98091604e-01 -2.25353862e+00 -3.95753020e+00 -1.46707651e+00\n",
      " -9.56592257e-02  2.24258617e-02  6.10527098e-01 -1.90454500e+00\n",
      " -6.77567847e+00 -3.39620734e+01 -5.18983504e-02 -5.30193024e-01\n",
      " -8.47360864e-01 -1.87427504e-01 -3.83135385e-02 -4.50414996e-02\n",
      "  4.14385830e+01 -9.57147126e+01  8.33390262e+01 -3.48654750e+01\n",
      " -6.03156886e-01 -8.13686851e+00 -1.14708034e+01 -2.77088832e+00\n",
      " -1.27947013e+00 -6.64415797e-01]\n",
      "ROC table \n",
      "         threshold   tp   fp   tn  fn       tpr       fpr\n",
      "0    1.000000e+00  215    3  132  19  0.918803  0.022222\n",
      "1    1.000000e+00  216    3  132  18  0.923077  0.022222\n",
      "2    2.130133e-01  217    3  132  17  0.927350  0.022222\n",
      "3    1.182762e-22  218    3  132  16  0.931624  0.022222\n",
      "4    2.781731e-44  219    3  132  15  0.935897  0.022222\n",
      "5    3.883070e-75  220    3  132  14  0.940171  0.022222\n",
      "6    1.186168e-99  221    3  132  13  0.944444  0.022222\n",
      "7   6.192826e-107  222    3  132  12  0.948718  0.022222\n",
      "8   8.031820e-182  222    4  131  12  0.948718  0.029630\n",
      "9   8.381936e-262  223    4  131  11  0.952991  0.029630\n",
      "10  1.794013e-291  224    4  131  10  0.957265  0.029630\n",
      "11  2.953515e-293  225    4  131   9  0.961538  0.029630\n",
      "12   0.000000e+00  234  135    0   0  1.000000  1.000000\n"
     ]
    },
    {
     "data": {
      "image/png": "[encoded data removed]",
      "text/plain": [
       "<Figure size 432x288 with 1 Axes>"
      ]
     },
     "metadata": {},
     "output_type": "display_data"
    }
   ],
   "source": [
    "# Loading the breast cancer dataset \n",
    "dataset = datasets.load_breast_cancer()\n",
    "\n",
    "X = dataset.data\n",
    "y = dataset.target\n",
    "X_train, X_test, y_train, y_test = train_test_split(X, y, train_size = 2/3, random_state=10)\n",
    "weights=logistic_regression(X_train, y_train,20000,10e-5)\n",
    "print('the weights w is \\n',weights) \n",
    "p=sigmoid(np.dot(X_test,weights))\n",
    "roc=roc_table(p,y_test)\n",
    "print('ROC table \\n',roc)\n",
    "roc_curve(roc)"
   ]
  },
  {
   "cell_type": "code",
   "execution_count": null,
   "metadata": {},
   "outputs": [],
   "source": []
  }
 ],
 "metadata": {
  "kernelspec": {
   "display_name": "Python 3",
   "language": "python",
   "name": "python3"
  },
  "language_info": {
   "codemirror_mode": {
    "name": "ipython",
    "version": 3
   },
   "file_extension": ".py",
   "mimetype": "text/x-python",
   "name": "python",
   "nbconvert_exporter": "python",
   "pygments_lexer": "ipython3",
   "version": "3.6.5"
  }
 },
 "nbformat": 4,
 "nbformat_minor": 2
}
